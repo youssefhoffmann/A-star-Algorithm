{
  "nbformat": 4,
  "nbformat_minor": 0,
  "metadata": {
    "colab": {
      "name": "Copie de hexcel.ipynb",
      "provenance": [],
      "collapsed_sections": [],
      "authorship_tag": "ABX9TyMT11/G9dOmQuR0QuLsGk3O",
      "include_colab_link": true
    },
    "kernelspec": {
      "name": "python3",
      "display_name": "Python 3"
    },
    "accelerator": "GPU"
  },
  "cells": [
    {
      "cell_type": "markdown",
      "metadata": {
        "id": "view-in-github",
        "colab_type": "text"
      },
      "source": [
        "<a href=\"https://colab.research.google.com/github/youssefhoffmann/A-star-Algorithm/blob/master/Copie_de_hexcel.ipynb\" target=\"_parent\"><img src=\"https://colab.research.google.com/assets/colab-badge.svg\" alt=\"Open In Colab\"/></a>"
      ]
    },
    {
      "cell_type": "code",
      "metadata": {
        "id": "MpoHApngjcMY"
      },
      "source": [
        "import numpy as np\n",
        "\n",
        "from keras.datasets import mnist\n",
        "from keras.layers import Input, Dense, Reshape, Flatten\n",
        "from keras.layers import BatchNormalization\n",
        "from keras.layers.advanced_activations import LeakyReLU\n",
        "from keras.models import Sequential, Model\n",
        "from keras.optimizers import Adam\n",
        "import matplotlib.pyplot as plt\n",
        "import numpy as np\n",
        "from keras.layers import BatchNormalization\n",
        "from keras.models import Sequential\n",
        "from keras.optimizers import Adam\n",
        "from keras.layers import Dense, Conv2D, Flatten, Reshape, Conv2DTranspose\n",
        "from keras.layers import LeakyReLU, Dropout\n",
        "import matplotlib.pyplot as plt\n",
        "from keras.utils import plot_model\n",
        "from keras.preprocessing.image import ImageDataGenerator\n",
        "from keras.models import load_model"
      ],
      "execution_count": null,
      "outputs": []
    },
    {
      "cell_type": "code",
      "metadata": {
        "id": "YPpI_5WujthT"
      },
      "source": [
        "# define the discriminator model\n",
        "def define_D(in_shape=(124,1003,3)):\n",
        "    model = Sequential()\n",
        "    model.add(Conv2D(64, (3,3), padding='same', input_shape=in_shape))\n",
        "    model.add(LeakyReLU(alpha=0.2))\n",
        "    #model.add(Conv2D(64, (3,3), strides=(2, 2), padding='same'))\n",
        "    #model.add(LeakyReLU(alpha=0.2))\n",
        "    model.add(Conv2D(64, (3,3), strides=(2, 2), padding='same'))\n",
        "    model.add(LeakyReLU(alpha=0.2))\n",
        "    model.add(Conv2D(64, (3,3), strides=(2, 2), padding='same'))\n",
        "    model.add(LeakyReLU(alpha=0.2))\n",
        "    model.add(Flatten())\n",
        "    model.add(Dropout(0.4))\n",
        "    model.add(Dense(1, activation='sigmoid'))\n",
        "    opt = Adam(lr=0.0002, beta_1=0.5)\n",
        "    model.compile(loss='binary_crossentropy', optimizer=opt, metrics=['accuracy'])\n",
        "    return model"
      ],
      "execution_count": null,
      "outputs": []
    },
    {
      "cell_type": "code",
      "metadata": {
        "colab": {
          "base_uri": "https://localhost:8080/"
        },
        "id": "lvMQsYY5zP9K",
        "outputId": "262e5217-c91a-4506-b6df-5c7b5cd90b80"
      },
      "source": [
        "model_D=define_D()\n",
        "model_D.summary()"
      ],
      "execution_count": null,
      "outputs": [
        {
          "output_type": "stream",
          "text": [
            "Model: \"sequential_25\"\n",
            "_________________________________________________________________\n",
            "Layer (type)                 Output Shape              Param #   \n",
            "=================================================================\n",
            "conv2d_43 (Conv2D)           (None, 124, 1003, 64)     1792      \n",
            "_________________________________________________________________\n",
            "leaky_re_lu_63 (LeakyReLU)   (None, 124, 1003, 64)     0         \n",
            "_________________________________________________________________\n",
            "conv2d_44 (Conv2D)           (None, 62, 502, 64)       36928     \n",
            "_________________________________________________________________\n",
            "leaky_re_lu_64 (LeakyReLU)   (None, 62, 502, 64)       0         \n",
            "_________________________________________________________________\n",
            "conv2d_45 (Conv2D)           (None, 31, 251, 64)       36928     \n",
            "_________________________________________________________________\n",
            "leaky_re_lu_65 (LeakyReLU)   (None, 31, 251, 64)       0         \n",
            "_________________________________________________________________\n",
            "flatten_11 (Flatten)         (None, 497984)            0         \n",
            "_________________________________________________________________\n",
            "dropout_11 (Dropout)         (None, 497984)            0         \n",
            "_________________________________________________________________\n",
            "dense_21 (Dense)             (None, 1)                 497985    \n",
            "=================================================================\n",
            "Total params: 573,633\n",
            "Trainable params: 573,633\n",
            "Non-trainable params: 0\n",
            "_________________________________________________________________\n"
          ],
          "name": "stdout"
        }
      ]
    },
    {
      "cell_type": "code",
      "metadata": {
        "id": "pV5zxG51jtk5"
      },
      "source": [
        "# define the generator model\n",
        "def define_G(latent_dim):\n",
        "    model = Sequential()\n",
        "\t  # foundation for 16x16 image\n",
        "    n_nodes = 31* 251 * 64\n",
        "    model.add(Dense(n_nodes, input_dim=latent_dim))\n",
        "    model.add(LeakyReLU(alpha=0.2))\n",
        "    model.add(Reshape((31, 251, 64)))\n",
        "    # upsample to 32x32\n",
        "    #model.add(Conv2DTranspose(64, (4,4), strides=(2,2), padding='same'))\n",
        "    #model.add(LeakyReLU(alpha=0.2))\n",
        "    # upsample to 64x64\n",
        "    model.add(Conv2DTranspose(64, (4,4), strides=(2,2), padding='same'))\n",
        "    model.add(LeakyReLU(alpha=0.2))\n",
        "    # upsamplde to 128x128\n",
        "    model.add(Conv2DTranspose(64, (4,4), strides=(2,2), padding='same'))\n",
        "    model.add(LeakyReLU(alpha=0.2))\n",
        "    model.add(Conv2D(3, (7,7), activation='tanh', padding='same'))\n",
        "    \n",
        "    \n",
        "    return model"
      ],
      "execution_count": null,
      "outputs": []
    },
    {
      "cell_type": "code",
      "metadata": {
        "colab": {
          "base_uri": "https://localhost:8080/"
        },
        "id": "oo6lSS480i-B",
        "outputId": "0f8cad51-927b-42e9-c673-7113c92d0eee"
      },
      "source": [
        "model_G=define_G(100)\n",
        "model_G.summary()"
      ],
      "execution_count": null,
      "outputs": [
        {
          "output_type": "stream",
          "text": [
            "Model: \"sequential_26\"\n",
            "_________________________________________________________________\n",
            "Layer (type)                 Output Shape              Param #   \n",
            "=================================================================\n",
            "dense_22 (Dense)             (None, 497984)            50296384  \n",
            "_________________________________________________________________\n",
            "leaky_re_lu_66 (LeakyReLU)   (None, 497984)            0         \n",
            "_________________________________________________________________\n",
            "reshape_10 (Reshape)         (None, 31, 251, 64)       0         \n",
            "_________________________________________________________________\n",
            "conv2d_transpose_20 (Conv2DT (None, 62, 502, 64)       65600     \n",
            "_________________________________________________________________\n",
            "leaky_re_lu_67 (LeakyReLU)   (None, 62, 502, 64)       0         \n",
            "_________________________________________________________________\n",
            "conv2d_transpose_21 (Conv2DT (None, 124, 1004, 64)     65600     \n",
            "_________________________________________________________________\n",
            "leaky_re_lu_68 (LeakyReLU)   (None, 124, 1004, 64)     0         \n",
            "_________________________________________________________________\n",
            "conv2d_46 (Conv2D)           (None, 124, 1004, 3)      9411      \n",
            "=================================================================\n",
            "Total params: 50,436,995\n",
            "Trainable params: 50,436,995\n",
            "Non-trainable params: 0\n",
            "_________________________________________________________________\n"
          ],
          "name": "stdout"
        }
      ]
    },
    {
      "cell_type": "code",
      "metadata": {
        "id": "OgERclzPjtoh"
      },
      "source": [
        "# define the combined generator and discriminator model, for updating the generator\n",
        "def define_GAN(model_G, model_D):\n",
        "\t# make weights in the discriminator not trainable\n",
        "\tmodel_D.trainable = False\n",
        "\tmodel = Sequential()\n",
        "\tmodel.add(model_G)\n",
        "\tmodel.add(model_D)\n",
        "\topt = Adam(lr=0.0002, beta_1=0.5)\n",
        "\tmodel.compile(loss='binary_crossentropy', optimizer=opt)\n",
        "\treturn model"
      ],
      "execution_count": null,
      "outputs": []
    },
    {
      "cell_type": "code",
      "metadata": {
        "colab": {
          "base_uri": "https://localhost:8080/"
        },
        "id": "zVhwOwtPkSc3",
        "outputId": "0cf37978-f12c-4c36-b5fd-b928301246da"
      },
      "source": [
        "from google.colab import drive\n",
        "drive.mount('/content/drive/')"
      ],
      "execution_count": null,
      "outputs": [
        {
          "output_type": "stream",
          "text": [
            "Drive already mounted at /content/drive/; to attempt to forcibly remount, call drive.mount(\"/content/drive/\", force_remount=True).\n"
          ],
          "name": "stdout"
        }
      ]
    },
    {
      "cell_type": "code",
      "metadata": {
        "id": "kXUa__lakL4P"
      },
      "source": [
        "def load_real_images():\n",
        "    import cv2\n",
        "    import glob\n",
        "\n",
        "    path = glob.glob('/content/sample_data/hexcel/*.tif')\n",
        "    print(path)\n",
        "    pairs=[]\n",
        "    for file in path:\n",
        "       \n",
        "       img=cv2.imread(file)\n",
        "       img_array=np.array(img)\n",
        "       pairs.append(img_array)\n",
        "\n",
        "    return pairs"
      ],
      "execution_count": null,
      "outputs": []
    },
    {
      "cell_type": "code",
      "metadata": {
        "colab": {
          "base_uri": "https://localhost:8080/"
        },
        "id": "k22fvDpsZAc5",
        "outputId": "1ed3611d-ca6c-45cf-c33b-fd6b1c3adf51"
      },
      "source": [
        "X=load_real_images()\n",
        "\n",
        "print(np.shape(X))\n",
        "print(type(X))"
      ],
      "execution_count": null,
      "outputs": [
        {
          "output_type": "stream",
          "text": [
            "['/content/sample_data/hexcel/VPB-seg-0.52microns-Hexcel1102_1003x124x9730656.tif', '/content/sample_data/hexcel/VPB-seg-0.52microns-Hexcel1102_1003x124x9730870.tif', '/content/sample_data/hexcel/VPB-seg-0.52microns-Hexcel1102_1003x124x9730084.tif', '/content/sample_data/hexcel/VPB-seg-0.52microns-Hexcel1102_1003x124x9730325.tif', '/content/sample_data/hexcel/VPB-seg-0.52microns-Hexcel1102_1003x124x9730284.tif', '/content/sample_data/hexcel/VPB-seg-0.52microns-Hexcel1102_1003x124x9730864.tif', '/content/sample_data/hexcel/VPB-seg-0.52microns-Hexcel1102_1003x124x9730735.tif', '/content/sample_data/hexcel/VPB-seg-0.52microns-Hexcel1102_1003x124x9730508.tif', '/content/sample_data/hexcel/VPB-seg-0.52microns-Hexcel1102_1003x124x9730521.tif', '/content/sample_data/hexcel/VPB-seg-0.52microns-Hexcel1102_1003x124x9730509.tif', '/content/sample_data/hexcel/VPB-seg-0.52microns-Hexcel1102_1003x124x9730939.tif', '/content/sample_data/hexcel/VPB-seg-0.52microns-Hexcel1102_1003x124x9730093.tif', '/content/sample_data/hexcel/VPB-seg-0.52microns-Hexcel1102_1003x124x9730251.tif', '/content/sample_data/hexcel/VPB-seg-0.52microns-Hexcel1102_1003x124x9730534.tif', '/content/sample_data/hexcel/VPB-seg-0.52microns-Hexcel1102_1003x124x9730483.tif', '/content/sample_data/hexcel/VPB-seg-0.52microns-Hexcel1102_1003x124x9730695.tif', '/content/sample_data/hexcel/VPB-seg-0.52microns-Hexcel1102_1003x124x9730912.tif', '/content/sample_data/hexcel/VPB-seg-0.52microns-Hexcel1102_1003x124x9730290.tif', '/content/sample_data/hexcel/VPB-seg-0.52microns-Hexcel1102_1003x124x9730331.tif', '/content/sample_data/hexcel/VPB-seg-0.52microns-Hexcel1102_1003x124x9730285.tif', '/content/sample_data/hexcel/7.tif', '/content/sample_data/hexcel/VPB-seg-0.52microns-Hexcel1102_1003x124x9730520.tif', '/content/sample_data/hexcel/VPB-seg-0.52microns-Hexcel1102_1003x124x9730119.tif', '/content/sample_data/hexcel/VPB-seg-0.52microns-Hexcel1102_1003x124x9730440.tif', '/content/sample_data/hexcel/VPB-seg-0.52microns-Hexcel1102_1003x124x9730079.tif', '/content/sample_data/hexcel/VPB-seg-0.52microns-Hexcel1102_1003x124x9730859.tif', '/content/sample_data/hexcel/VPB-seg-0.52microns-Hexcel1102_1003x124x9730681.tif', '/content/sample_data/hexcel/VPB-seg-0.52microns-Hexcel1102_1003x124x9730737.tif', '/content/sample_data/hexcel/VPB-seg-0.52microns-Hexcel1102_1003x124x9730118.tif', '/content/sample_data/hexcel/VPB-seg-0.52microns-Hexcel1102_1003x124x9730523.tif', '/content/sample_data/hexcel/VPB-seg-0.52microns-Hexcel1102_1003x124x9730469.tif', '/content/sample_data/hexcel/VPB-seg-0.52microns-Hexcel1102_1003x124x9730332.tif', '/content/sample_data/hexcel/VPB-seg-0.52microns-Hexcel1102_1003x124x9730496.tif', '/content/sample_data/hexcel/VPB-seg-0.52microns-Hexcel1102_1003x124x9730090.tif', '/content/sample_data/hexcel/VPB-seg-0.52microns-Hexcel1102_1003x124x9730246.tif', '/content/sample_data/hexcel/VPB-seg-0.52microns-Hexcel1102_1003x124x9730642.tif', '/content/sample_data/hexcel/VPB-seg-0.52microns-Hexcel1102_1003x124x9730722.tif', '/content/sample_data/hexcel/VPB-seg-0.52microns-Hexcel1102_1003x124x9730494.tif', '/content/sample_data/hexcel/VPB-seg-0.52microns-Hexcel1102_1003x124x9730871.tif', '/content/sample_data/hexcel/VPB-seg-0.52microns-Hexcel1102_1003x124x9730124.tif', '/content/sample_data/hexcel/VPB-seg-0.52microns-Hexcel1102_1003x124x9730131.tif', '/content/sample_data/hexcel/VPB-seg-0.52microns-Hexcel1102_1003x124x9730245.tif', '/content/sample_data/hexcel/VPB-seg-0.52microns-Hexcel1102_1003x124x9730327.tif', '/content/sample_data/hexcel/VPB-seg-0.52microns-Hexcel1102_1003x124x9730292.tif', '/content/sample_data/hexcel/VPB-seg-0.52microns-Hexcel1102_1003x124x9730454.tif', '/content/sample_data/hexcel/VPB-seg-0.52microns-Hexcel1102_1003x124x9730247.tif', '/content/sample_data/hexcel/4.tif', '/content/sample_data/hexcel/VPB-seg-0.52microns-Hexcel1102_1003x124x9730721.tif', '/content/sample_data/hexcel/VPB-seg-0.52microns-Hexcel1102_1003x124x9730468.tif', '/content/sample_data/hexcel/VPB-seg-0.52microns-Hexcel1102_1003x124x9730319.tif', '/content/sample_data/hexcel/VPB-seg-0.52microns-Hexcel1102_1003x124x9730279.tif', '/content/sample_data/hexcel/VPB-seg-0.52microns-Hexcel1102_1003x124x9730457.tif', '/content/sample_data/hexcel/VPB-seg-0.52microns-Hexcel1102_1003x124x9730682.tif', '/content/sample_data/hexcel/VPB-seg-0.52microns-Hexcel1102_1003x124x9730906.tif', '/content/sample_data/hexcel/VPB-seg-0.52microns-Hexcel1102_1003x124x9730051.tif', '/content/sample_data/hexcel/VPB-seg-0.52microns-Hexcel1102_1003x124x9730092.tif', '/content/sample_data/hexcel/VPB-seg-0.52microns-Hexcel1102_1003x124x9730125.tif', '/content/sample_data/hexcel/VPB-seg-0.52microns-Hexcel1102_1003x124x9730441.tif', '/content/sample_data/hexcel/VPB-seg-0.52microns-Hexcel1102_1003x124x9730443.tif', '/content/sample_data/hexcel/VPB-seg-0.52microns-Hexcel1102_1003x124x9730865.tif', '/content/sample_data/hexcel/VPB-seg-0.52microns-Hexcel1102_1003x124x9730657.tif', '/content/sample_data/hexcel/VPB-seg-0.52microns-Hexcel1102_1003x124x9730736.tif', '/content/sample_data/hexcel/5.tif', '/content/sample_data/hexcel/VPB-seg-0.52microns-Hexcel1102_1003x124x9730253.tif', '/content/sample_data/hexcel/VPB-seg-0.52microns-Hexcel1102_1003x124x9730858.tif', '/content/sample_data/hexcel/VPB-seg-0.52microns-Hexcel1102_1003x124x9730911.tif', '/content/sample_data/hexcel/VPB-seg-0.52microns-Hexcel1102_1003x124x9730078.tif', '/content/sample_data/hexcel/VPB-seg-0.52microns-Hexcel1102_1003x124x9730050.tif', '/content/sample_data/hexcel/VPB-seg-0.52microns-Hexcel1102_1003x124x9730482.tif', '/content/sample_data/hexcel/VPB-seg-0.52microns-Hexcel1102_1003x124x9730723.tif', '/content/sample_data/hexcel/VPB-seg-0.52microns-Hexcel1102_1003x124x9730130.tif', '/content/sample_data/hexcel/VPB-seg-0.52microns-Hexcel1102_1003x124x9730087.tif', '/content/sample_data/hexcel/VPB-seg-0.52microns-Hexcel1102_1003x124x9730053.tif', '/content/sample_data/hexcel/VPB-seg-0.52microns-Hexcel1102_1003x124x9730643.tif', '/content/sample_data/hexcel/VPB-seg-0.52microns-Hexcel1102_1003x124x9730252.tif', '/content/sample_data/hexcel/VPB-seg-0.52microns-Hexcel1102_1003x124x9730086.tif', '/content/sample_data/hexcel/VPB-seg-0.52microns-Hexcel1102_1003x124x9730910.tif', '/content/sample_data/hexcel/VPB-seg-0.52microns-Hexcel1102_1003x124x9730905.tif', '/content/sample_data/hexcel/VPB-seg-0.52microns-Hexcel1102_1003x124x9730455.tif', '/content/sample_data/hexcel/VPB-seg-0.52microns-Hexcel1102_1003x124x9730535.tif', '/content/sample_data/hexcel/VPB-seg-0.52microns-Hexcel1102_1003x124x9730709.tif', '/content/sample_data/hexcel/VPB-seg-0.52microns-Hexcel1102_1003x124x9730938.tif', '/content/sample_data/hexcel/VPB-seg-0.52microns-Hexcel1102_1003x124x9730694.tif', '/content/sample_data/hexcel/VPB-seg-0.52microns-Hexcel1102_1003x124x9730680.tif', '/content/sample_data/hexcel/VPB-seg-0.52microns-Hexcel1102_1003x124x9730480.tif', '/content/sample_data/hexcel/VPB-seg-0.52microns-Hexcel1102_1003x124x9730497.tif', '/content/sample_data/hexcel/VPB-seg-0.52microns-Hexcel1102_1003x124x9730326.tif', '/content/sample_data/hexcel/VPB-seg-0.52microns-Hexcel1102_1003x124x9730286.tif', '/content/sample_data/hexcel/VPB-seg-0.52microns-Hexcel1102_1003x124x9730291.tif', '/content/sample_data/hexcel/VPB-seg-0.52microns-Hexcel1102_1003x124x9730537.tif', '/content/sample_data/hexcel/VPB-seg-0.52microns-Hexcel1102_1003x124x9730904.tif', '/content/sample_data/hexcel/VPB-seg-0.52microns-Hexcel1102_1003x124x9730333.tif']\n",
            "(92, 124, 1003, 3)\n",
            "<class 'list'>\n"
          ],
          "name": "stdout"
        }
      ]
    },
    {
      "cell_type": "code",
      "metadata": {
        "id": "425pg2_TkL8w"
      },
      "source": [
        "def generate_real_images(dataset, n_samples):\n",
        "    dataset=np.array(dataset)\n",
        "    i = np.random.randint(0, dataset.shape[0], n_samples)\n",
        "    print(i)\n",
        "    X = dataset[i]\n",
        "    y = np.ones((n_samples,1))\n",
        "    return X, y"
      ],
      "execution_count": null,
      "outputs": []
    },
    {
      "cell_type": "code",
      "metadata": {
        "colab": {
          "base_uri": "https://localhost:8080/",
          "height": 93
        },
        "id": "NApkYIGeka_d",
        "outputId": "ba6ea5e3-a482-4eaf-fde6-1dd917ea8c30"
      },
      "source": [
        "plt.imshow(X[7])\n",
        "plt.show()"
      ],
      "execution_count": null,
      "outputs": [
        {
          "output_type": "display_data",
          "data": {
            "image/png": "[encoded data removed]",
            "text/plain": [
              "<Figure size 432x288 with 1 Axes>"
            ]
          },
          "metadata": {
            "tags": [],
            "needs_background": "light"
          }
        }
      ]
    },
    {
      "cell_type": "code",
      "metadata": {
        "id": "5c--iJXKi9DU"
      },
      "source": [
        "X=generate_real_images(X,10)\n",
        "print(X)\n"
      ],
      "execution_count": null,
      "outputs": []
    },
    {
      "cell_type": "code",
      "metadata": {
        "id": "EZ1Fmw5bjtrg"
      },
      "source": [
        "def generate_latent_points(latent_dim, n_samples):\n",
        "    X = np.random.randn(latent_dim * n_samples)\n",
        "    X = X.reshape(n_samples, latent_dim)\n",
        "    return X"
      ],
      "execution_count": null,
      "outputs": []
    },
    {
      "cell_type": "code",
      "metadata": {
        "id": "mNbOIXoNlgKR"
      },
      "source": [
        "Y=generate_latent_points(100,10)\n",
        "print(Y)"
      ],
      "execution_count": null,
      "outputs": []
    },
    {
      "cell_type": "code",
      "metadata": {
        "colab": {
          "base_uri": "https://localhost:8080/"
        },
        "id": "4P-yn12oqnEs",
        "outputId": "0f5ab6e0-3d17-4665-ab27-f42613d5a049"
      },
      "source": [
        "print(type(Y))\n",
        "print(np.shape(Y))"
      ],
      "execution_count": null,
      "outputs": [
        {
          "output_type": "stream",
          "text": [
            "<class 'numpy.ndarray'>\n",
            "(10, 100)\n"
          ],
          "name": "stdout"
        }
      ]
    },
    {
      "cell_type": "code",
      "metadata": {
        "colab": {
          "base_uri": "https://localhost:8080/",
          "height": 84
        },
        "id": "tmTw5diZnDZ8",
        "outputId": "75ec2aaf-61db-4b24-9836-d9bd35c009b2"
      },
      "source": [
        "plt.imshow(Y)\n",
        "plt.show()"
      ],
      "execution_count": null,
      "outputs": [
        {
          "output_type": "display_data",
          "data": {
            "image/png": "[encoded data removed]",
            "text/plain": [
              "<Figure size 432x288 with 1 Axes>"
            ]
          },
          "metadata": {
            "tags": [],
            "needs_background": "light"
          }
        }
      ]
    },
    {
      "cell_type": "code",
      "metadata": {
        "id": "f97-y0Aqjtug"
      },
      "source": [
        "def generate_fake_images(model_G, latent_dim, n_samples):\n",
        "    X_input = generate_latent_points(latent_dim, n_samples)\n",
        "    X = model_G.predict(X_input)\n",
        "    y = np.zeros((n_samples, 1))\n",
        "    return X, y"
      ],
      "execution_count": null,
      "outputs": []
    },
    {
      "cell_type": "code",
      "metadata": {
        "id": "oZ1jncFCYbgC"
      },
      "source": [
        "X=generate_fake_images(model_G,100,10)\n",
        "print(type(X))\n",
        "print(X)\n"
      ],
      "execution_count": null,
      "outputs": []
    },
    {
      "cell_type": "code",
      "metadata": {
        "id": "a0GgMrP9ccCl"
      },
      "source": [
        "def summarize_performance(epoch, model_G, model_D, dataset, latent_dim, n_samples=10):\n",
        "  model_G.save('/content/drive/My Drive/Colab Notebooks/model_dog_' +str(epoch)+ '.h5')\n",
        "  X_real, y_real = generate_real_images(dataset, n_samples)\n",
        "  _, acc_real = model_D.evaluate(X_real, y_real, verbose=0)\n",
        "  x_fake, y_fake = generate_fake_images(model_G, latent_dim, n_samples)\n",
        "  _, acc_fake = model_D.evaluate(x_fake, y_fake, verbose=0)\n",
        "  print('Accuracy real: %.0f%%, fake: %.0f%%' % (acc_real*100, acc_fake*100))"
      ],
      "execution_count": null,
      "outputs": []
    },
    {
      "cell_type": "code",
      "metadata": {
        "id": "oGauyhPLccHz"
      },
      "source": [
        "def train_discriminator(model, dataset, n_iter=100, n_batch=8):\n",
        "    half_batch = int(n_batch/2)\n",
        "    # manually enumerate epochs\n",
        "    for i in range(n_iter):\n",
        "        X_real, y_real = generate_real_images(dataset, half_batch)\n",
        "        _, real_acc = model.train_on_batch(X_real, y_real)\n",
        "        X_fake, y_fake = generate_fake_images(half_batch)\n",
        "        _, fake_acc = model.train_on_batch(X_fake, y_fake)\n",
        "        print('%d real=%.0f%% fake=%.0f%%' % (i+1, real_acc*100, fake_acc*100))"
      ],
      "execution_count": null,
      "outputs": []
    },
    {
      "cell_type": "code",
      "metadata": {
        "id": "-Wp-fS0VccK9"
      },
      "source": [
        "def train_GAN(model_G, model_D, model_GAN, dataset, latent_dim, n_epochs=100, n_batch=8):\n",
        "\tbat_per_epo = int(dataset.shape[0] / n_batch)\n",
        "\thalf_batch = int(n_batch / 2)\n",
        "\t# manually enumerate epochs\n",
        "\tfor i in range(n_epochs):\n",
        "\t\t# enumerate batches over the training set\n",
        "\t\tfor j in range(bat_per_epo):\n",
        "\t\t\tX_real, y_real = generate_real_images(dataset, half_batch)\n",
        "\t\t\tX_fake, y_fake = generate_fake_images(model_G, latent_dim, half_batch)\n",
        "\t\t\tX, y = np.vstack((X_real, X_fake)), np.vstack((y_real, y_fake))\n",
        "\t\t\td_loss, _ = model_D.train_on_batch(X, y)\n",
        "\t\t\tX_gan = generate_latent_points(latent_dim, n_batch)\n",
        "\t\t\ty_gan = np.ones((n_batch, 1))\n",
        "\t\t\tg_loss = model_GAN.train_on_batch(X_gan, y_gan)\n",
        "\t\t\tprint('%d, %d/%d, d=%.3f, g=%.3f' % (i+1, j+1, bat_per_epo, d_loss, g_loss))\n",
        "\t\t# evaluate the model performance\n",
        "\t\tif (i+1) % 100 == 0:\n",
        "\t\t\tsummarize_performance(i, model_G, model_D, dataset, latent_dim)"
      ],
      "execution_count": null,
      "outputs": []
    },
    {
      "cell_type": "code",
      "metadata": {
        "id": "Ren8nnBpccOf"
      },
      "source": [
        "latent_dim =100\n",
        "in_shape=(124,1003,3)\n",
        "model_D = define_D()\n",
        "model_G = define_G(latent_dim)\n",
        "model_GAN = define_GAN(model_G, model_D)\n",
        "dataset=load_real_images()\n",
        "train_GAN(model_G, model_D,model_GAN,dataset[0], latent_dim)"
      ],
      "execution_count": null,
      "outputs": []
    },
    {
      "cell_type": "code",
      "metadata": {
        "id": "hLrEq4qjccQz"
      },
      "source": [
        "def generate_latent_points(latent_dim, n_samples):\n",
        "\t# generate points in the latent space\n",
        "\tx_input = np.random.randn(latent_dim * n_samples)\n",
        "\t# reshape into a batch of inputs for the network\n",
        "\tz_input = x_input.reshape(n_samples, latent_dim)\n",
        "\treturn z_input"
      ],
      "execution_count": null,
      "outputs": []
    },
    {
      "cell_type": "code",
      "metadata": {
        "id": "2cyTJ_wpcyBW"
      },
      "source": [
        "def plot_images(images, n):\n",
        "\t# scales image values in the range of [0,1]\n",
        "\timages = (images-images.min())/(images.max() - images.min())\n",
        "\tfor i in range(n):\n",
        "\t\t# define subplot\n",
        "\t\tplt.subplot(1, n, 1 + i)\n",
        "\t\t# turn off axis\n",
        "\t\t#plt.axis('off')\n",
        "\t\t# plot raw pixel data\n",
        "\t\tplt.imshow(images[i, :, :],cmap='viridis')\n",
        "\tplt.show()"
      ],
      "execution_count": null,
      "outputs": []
    },
    {
      "cell_type": "code",
      "metadata": {
        "colab": {
          "base_uri": "https://localhost:8080/"
        },
        "id": "Dxmml1K_j07z",
        "outputId": "b783c4c4-ac42-4127-dd2b-4497661a9721"
      },
      "source": [
        "model_G1=load_model('/content/drive/My Drive/Colab Notebooks/model_dog_99.h5')"
      ],
      "execution_count": null,
      "outputs": [
        {
          "output_type": "stream",
          "text": [
            "WARNING:tensorflow:No training configuration found in the save file, so the model was *not* compiled. Compile it manually.\n"
          ],
          "name": "stdout"
        }
      ]
    },
    {
      "cell_type": "code",
      "metadata": {
        "colab": {
          "base_uri": "https://localhost:8080/"
        },
        "id": "i6ajhhKzsEwH",
        "outputId": "05a1c1cc-7a6c-4a9d-8be5-2905e5312040"
      },
      "source": [
        "model_G2=load_model('/content/drive/My Drive/Colab Notebooks/model_dog_9.h5')"
      ],
      "execution_count": null,
      "outputs": [
        {
          "output_type": "stream",
          "text": [
            "WARNING:tensorflow:No training configuration found in the save file, so the model was *not* compiled. Compile it manually.\n"
          ],
          "name": "stdout"
        }
      ]
    },
    {
      "cell_type": "code",
      "metadata": {
        "colab": {
          "base_uri": "https://localhost:8080/",
          "height": 98
        },
        "id": "aKxvcJslcyFU",
        "outputId": "9dace532-c520-4081-8744-e2ddde2e080c"
      },
      "source": [
        "pts = generate_latent_points(100, 30)\n",
        "# generate images\n",
        "X = model_G1.predict(pts)\n",
        "# plot the result\n",
        "plot_images(X, 4)"
      ],
      "execution_count": null,
      "outputs": [
        {
          "output_type": "stream",
          "text": [
            "WARNING:tensorflow:8 out of the last 11 calls to <function Model.make_predict_function.<locals>.predict_function at 0x7f2666096200> triggered tf.function retracing. Tracing is expensive and the excessive number of tracings could be due to (1) creating @tf.function repeatedly in a loop, (2) passing tensors with different shapes, (3) passing Python objects instead of tensors. For (1), please define your @tf.function outside of the loop. For (2), @tf.function has experimental_relax_shapes=True option that relaxes argument shapes that can avoid unnecessary retracing. For (3), please refer to https://www.tensorflow.org/guide/function#controlling_retracing and https://www.tensorflow.org/api_docs/python/tf/function for  more details.\n"
          ],
          "name": "stdout"
        },
        {
          "output_type": "display_data",
          "data": {
            "image/png": "[encoded data removed]",
            "text/plain": [
              "<Figure size 432x288 with 4 Axes>"
            ]
          },
          "metadata": {
            "tags": [],
            "needs_background": "light"
          }
        }
      ]
    },
    {
      "cell_type": "code",
      "metadata": {
        "colab": {
          "base_uri": "https://localhost:8080/",
          "height": 98
        },
        "id": "fUELu4cir-ZJ",
        "outputId": "9545a95c-e29e-4fa1-e715-82c665ec3860"
      },
      "source": [
        "pts = generate_latent_points(100, 30)\n",
        "# generate images\n",
        "X = model_G2.predict(pts)\n",
        "# plot the result\n",
        "plot_images(X, 4)"
      ],
      "execution_count": null,
      "outputs": [
        {
          "output_type": "stream",
          "text": [
            "WARNING:tensorflow:8 out of the last 11 calls to <function Model.make_predict_function.<locals>.predict_function at 0x7f2666096e60> triggered tf.function retracing. Tracing is expensive and the excessive number of tracings could be due to (1) creating @tf.function repeatedly in a loop, (2) passing tensors with different shapes, (3) passing Python objects instead of tensors. For (1), please define your @tf.function outside of the loop. For (2), @tf.function has experimental_relax_shapes=True option that relaxes argument shapes that can avoid unnecessary retracing. For (3), please refer to https://www.tensorflow.org/guide/function#controlling_retracing and https://www.tensorflow.org/api_docs/python/tf/function for  more details.\n"
          ],
          "name": "stdout"
        },
        {
          "output_type": "display_data",
          "data": {
            "image/png": "[encoded data removed]",
            "text/plain": [
              "<Figure size 432x288 with 4 Axes>"
            ]
          },
          "metadata": {
            "tags": [],
            "needs_background": "light"
          }
        }
      ]
    },
    {
      "cell_type": "code",
      "metadata": {
        "id": "ti1NpSmgccWA"
      },
      "source": [
        ""
      ],
      "execution_count": null,
      "outputs": []
    }
  ]
}